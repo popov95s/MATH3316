{
 "cells": [
  {
   "cell_type": "markdown",
   "metadata": {},
   "source": [
    "# <center>Project 4 </center>\n",
    "## <center>Stefan Popov</center><br>\n",
    " <center>Nov 25th 2016</center><br><br>\n",
    "<center>MATH3316/CSE3366</center><br><br>\n",
    "\n",
    "\n",
    "\n",
    "\n",
    "\n"
   ]
  },
  {
   "cell_type": "markdown",
   "metadata": {},
   "source": [
    "### 1. High order numerical integration\n",
    "In the first part of this project, we were to create our own composite numerical integration function,"
   ]
  },
  {
   "cell_type": "code",
   "execution_count": null,
   "metadata": {
    "collapsed": true
   },
   "outputs": [],
   "source": [
    "double composite_int(Fcn& f, const double a, const double b\n",
    "                     const int n);"
   ]
  },
  {
   "cell_type": "markdown",
   "metadata": {},
   "source": [
    "in a file composite_int.cpp. The function was to implement a composite numerical integration formula that is $O(h^8)$ accurate of our own choosing. For the purposes of this assignment, I chose to implement the 4 point Gaussian quadrature rule. The function implementation was as follows : "
   ]
  },
  {
   "cell_type": "code",
   "execution_count": null,
   "metadata": {
    "collapsed": true
   },
   "outputs": [],
   "source": [
    "double composite_int(Fcn & f, const double a,const double b,const int n){\n",
    "\t//get midpoint\n",
    "\tdouble h = (b-a)/n;\n",
    "\n",
    "\t//set weights\n",
    "\tdouble x1 = -0.86113631159405;\n",
    "\tdouble x2 = -0.33998104358486;\n",
    "\tdouble x3 = 0.33998104358486;\n",
    "\tdouble x4 = 0.86113631159405;\n",
    "\tdouble w1 = 0.34785484513745;\n",
    "\tdouble w2 = 0.65214515486254;\n",
    "\tdouble w3 = 0.65214515486255;\n",
    "\tdouble w4 = 0.34785484513745;\n",
    "\n",
    "\tdouble result=0.0;\n",
    "\n",
    "\tdouble xmid,node1, node2,node3,node4;\n",
    "\n",
    "\t//iterate as many times as needed \n",
    "\tfor(int i=0 ;i<n;i++){\n",
    "\t\t//calculate result at each node\n",
    "\t\txmid= a+ (i+0.5)*h;\n",
    "\t\tnode1= xmid+ 0.5*h*x1;\n",
    "\t\tnode2= xmid+ 0.5*h*x2;\n",
    "\t\tnode3= xmid+ 0.5*h*x3;\n",
    "\t\tnode4= xmid+ 0.5*h*x4;\n",
    "\t\t//update result\n",
    "\t\tresult+=w1*f(node1)+w2*f(node2)+w3*f(node3) + w4*f(node4);\n",
    "\t}\n",
    "\n",
    "\treturn (0.5*h*result);\n",
    "}"
   ]
  },
  {
   "cell_type": "markdown",
   "metadata": {},
   "source": [
    "Then we were to create a C++ main() routine in a file named test_int.cpp that would emulate the already provided routine in test_Gauss2.cpp to ensure that the integration routine works as it is supposed. It is to use the same integrand as the supplied routine, but modified to where it uses a different values of n to demonstrate the convergence rate of the method, where we should use at least 6 n values. The main() routine was as follows : "
   ]
  },
  {
   "cell_type": "code",
   "execution_count": null,
   "metadata": {
    "collapsed": true
   },
   "outputs": [],
   "source": [
    "int main(){\n",
    "\n",
    "\tdouble a = -3.0;\n",
    "\tdouble b =5.0;\n",
    "\tfcn f;\n",
    "\tf.c = 0.5;\n",
    "\tf.d=25.0;\n",
    "\tdouble Itrue = f.antiderivative(b) - f.antiderivative(a);\n",
    "\tprintf(\"\\n True Integral = %22.16e\\n\", Itrue);\n",
    "\n",
    "\n",
    "\t// test the Gauss-4 rule\t\n",
    "\tcout << \"\\n Gauss-4 approximation:\\n\";\n",
    "\tcout << \"     n             R(f)            relerr    conv rate\\n\";\n",
    "\tcout << \"  ---------------------------------------------------\\n\";\n",
    "\tvector<int> n = {20, 40, 80, 160, 320, 640, 1280, 2560, 5120, 10240};\n",
    "\tvector<double> errors(n.size());\n",
    "\tvector<double> hvals(n.size());\n",
    "\n",
    "\t// iterate over n values, computing approximations, error, convergence rate\n",
    "\tdouble Iapprox;\n",
    "\tfor (int i=0; i<n.size(); i++) {\n",
    "\n",
    "\t\tprintf(\"   %6i\", n[i]);\n",
    "\t\tIapprox = composite_int(f, a, b, n[i]);\n",
    "\t\terrors[i] = fabs(Itrue-Iapprox)/fabs(Itrue);\n",
    "\t\thvals[i] = (b-a)/n[i];\n",
    "\t\tif (i == 0) \n",
    "\t\t\tprintf(\"  %22.16e  %7.1e     ----\\n\", Iapprox, errors[i]);\n",
    "\t\telse \n",
    "\t\tprintf(\"  %22.16e  %7.1e   %f\\n\", Iapprox, errors[i], \n",
    "\t\t\t(log(errors[i-1]) - log(errors[i]))/(log(hvals[i-1]) - log(hvals[i])));\n",
    "\t}\n",
    "\tcout << \"  ---------------------------------------------------\\n\";\n",
    "}"
   ]
  },
  {
   "cell_type": "markdown",
   "metadata": {},
   "source": [
    "When ran, it yielded the following output : "
   ]
  },
  {
   "cell_type": "raw",
   "metadata": {},
   "source": [
    " True Integral = 2.3924089071413306e+01\n",
    "\n",
    " Gauss-4 approximation:\n",
    "     n             R(f)            relerr    conv rate\n",
    "  ---------------------------------------------------\n",
    "       20  2.3924921763522551e+01  3.5e-05     ----\n",
    "       40  2.3924084859070891e+01  1.8e-07   7.627017\n",
    "       80  2.3924089065582478e+01  2.4e-10   9.496706\n",
    "      160  2.3924089071394189e+01  8.0e-13   8.252689\n",
    "      320  2.3924089071413118e+01  7.9e-15   6.665738\n",
    "      640  2.3924089071413206e+01  4.2e-15   0.920566\n",
    "     1280  2.3924089071413192e+01  4.8e-15   -0.192645\n",
    "     2560  2.3924089071413199e+01  4.5e-15   0.093109\n",
    "     5120  2.3924089071413185e+01  5.0e-15   -0.180572\n",
    "    10240  2.3924089071413167e+01  5.8e-15   -0.197939\n",
    "  ---------------------------------------------------"
   ]
  },
  {
   "cell_type": "markdown",
   "metadata": {},
   "source": [
    "### 2. Adaptive Numerical Integration\n",
    "\n",
    "In this part of the project, we were to create an adaptive numerical integration function, with the following signature :"
   ]
  },
  {
   "cell_type": "code",
   "execution_count": null,
   "metadata": {
    "collapsed": true
   },
   "outputs": [],
   "source": [
    "int adaptive_int(Fcn& f, const double a, const double b, \n",
    "                const double rtol, const double atol,\n",
    "                double& R, int& n, int& Ntot);"
   ]
  },
  {
   "cell_type": "markdown",
   "metadata": {},
   "source": [
    "in a new file called adaptive_int.cpp that will compute the integral<br><br> $$\\int_{a}^{b} f(x)dx$$ <br><br> \n",
    "by calling the composite_int() function from the previous section in an adaptive manner. The main goal was to construct an approximation of the true integral such that $$ |I(f) - R_n(f)| < rtol|I(f)| + atol,$$\n",
    "where $$I(f) = \\int_{a}^{b} f(x)dx$$ and $R_n(f)$=composite_int(f,a,b,n) such that the achieved result takes the least possible computational effort and n is minized while doing so. <br>\n",
    "The challenge with the error bound would be the fact that we do not know the value of the true integral I(f), but for rapidly-convergent methods, an approximation using more subintervals would be more accurate than $R_n(f)$. Hence the equation will be modeled as $$ |R_{n+k}(f) - R_n(f)|< rtol|R{n+k}(f)| + atol.$$ The n here is to be adaptively updated until the bound is satisfied in the least computational effort. <br><br> Upon completion, the adaptive_int() function should fill R with its double-precision approximation of the integral, n with the final number of intervals it used in computing R. Ntot would hold the total number of intervals used along the way and it's return value should be 0 if it believes that it successfully satisfied the approximation of the error bound or 1 if it failed. <br><br> This was all achieved in the following code"
   ]
  },
  {
   "cell_type": "code",
   "execution_count": null,
   "metadata": {
    "collapsed": true
   },
   "outputs": [],
   "source": []
  }
 ],
 "metadata": {
  "anaconda-cloud": {},
  "kernelspec": {
   "display_name": "Python [Root]",
   "language": "python",
   "name": "Python [Root]"
  },
  "language_info": {
   "codemirror_mode": {
    "name": "ipython",
    "version": 3
   },
   "file_extension": ".py",
   "mimetype": "text/x-python",
   "name": "python",
   "nbconvert_exporter": "python",
   "pygments_lexer": "ipython3",
   "version": "3.5.2"
  }
 },
 "nbformat": 4,
 "nbformat_minor": 0
}
