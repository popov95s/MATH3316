{
 "cells": [
  {
   "cell_type": "markdown",
   "metadata": {},
   "source": [
    "# <center>Project 3 </center>\n",
    "## <center>Stefan Popov</center><br>\n",
    " <center>Oct 25th 2016</center><br><br>\n",
    "<center>MATH3316/CSE3366</center><br><br>\n",
    "\n",
    "\n",
    "\n",
    "\n",
    "\n"
   ]
  },
  {
   "cell_type": "markdown",
   "metadata": {},
   "source": [
    "<br><br><br><br>\n",
    "### <center>0. Building the project. </center>\n",
    "\n",
    "  This project comes with a provided Makefile, as specified in the instructions. To build all executables for this project, simply use the command <br><br>\n",
    "<div align=\"center\"><i>make</i></div> <br> in Terminal or Command Prompt. <br><br> The executable  <br><br>\n",
    "\n",
    "<div align=\"center\"><i>test_newton.exe</i></div> <br><br> would need to be manually executed to create the required files for this project. <br><br>This executable would create the needed files for part 1. of this project, that would later be plotted in this Jupyter Notebook. <br><br>  To test the validity of the Lagrange2D() method required in part 2., run the executable <br><br>\n",
    "<div align=\"center\"><i>test_Lagrange.exe </i></div><br><br> which was provided in the project description. \n",
    "<br><br>\n",
    "<div align=\"center\"><i>Runge_uniform.exe</i></div><br><br>\n",
    "would create all required files for the plots in part 3.1. <br><br>\n",
    "<div align=\"center\"><i>Runge_Chebyshev.exe</i></div><br><br>\n",
    "would create all required files for the plots in part 3.2.\n",
    "\n",
    "\n",
    "<br><br><br><br>\n",
    "To delete all output files simply use the command \n",
    "<div align=\"center\"><i>make clean</i></div><br><br>\n",
    "To delete all output files and executables, type in \n",
    "<div align=\"center\"><i>make realclean</i></div><br><br>\n"
   ]
  },
  {
   "cell_type": "markdown",
   "metadata": {},
   "source": [
    "<br><br><br><br>\n",
    "### <center>1. Newton Interpolation</center>\n",
    "In the first part of this project, we were to construct an interpolating polynomial in Newton form. To do so, we were given the following specifications : <br><br>\n",
    "When asked to interpolate $n+1$ distinct data points $(x_0,y_0),(x_1,y_1), ... , (x_n,y_n)$ by a polynomial of formal degree n using Newton form as<br><br> $$p_n(x)= a_0 + a_1(x-x_0)+ a_2(x-x_0)(x-x_1) +       ... + a_n(x-x_0)(x-x_1)...(x-x_{n-1})$$<br><br>\n",
    "\n",
    "We would take the construction of Newton form to be the process for determining the n+1 unknown coefficients $a_0,a_1, ..., a_n$ using the $n+1$ interpolating conditions $p_n(x_0)=y_0, p_n(x_1)=y_1, ... , p_n(x_n)=y_n$. If one more data point $(x_{n+1},y_{n+1})$ is added to the previous $n+1$ data points, the new interpolating polynomial of degree $n+1$ that interpolates the expanded data set can be written as <br><br>$$p_{n+1}(x)=p_n(x)+ a_{n+1}(x-x_0)(x-x_1)...(x-x_n).$$<br><br>\n",
    "The extra coefficient $a_{n+1}$ is given by $$a_{n+1}= \\frac{y_{n+1} - p_n(x_{n+1})}{(x_{n+1}-x_0)(x_{n+1}-x_1)...(x_{n+1} - x_n)}$$<br><br>\n",
    "providing a recursive formula to find the coefficients $a_1,a_2,...$ by starting with $p_0(x)=a_0=y_0$ and letting $n$ take tha values $0,1,...$ in the above formula.<br><br>\n",
    "When using the above recursion we would need to acquire $p_n(x_{n+1})$, which we would do by using nested multiplication. The product $(x_{n+1} - x_0)(x_{n+1}-x_1)...(x_{n+1}-x_n)$ by evaluatin the Newton's basis function <br><br>$$\\phi_{n+1}(x)=(x-x_0)(x-x_1)...(x-x_n)$$<br><br>"
   ]
  },
  {
   "cell_type": "markdown",
   "metadata": {},
   "source": [
    "We would write three C++ functions to fulfill the above : "
   ]
  },
  {
   "cell_type": "raw",
   "metadata": {
    "collapsed": true
   },
   "source": [
    "    double Newton_basis(Matrix& nodes, int n, double x)"
   ]
  },
  {
   "cell_type": "markdown",
   "metadata": {},
   "source": [
    "which purpose is to evaluate the Newton basis function $\\phi_{n+1}(x)$. The nodes are passed to the function as a matrix object, as well as the value of x and it returns the evaluation. <br><br> "
   ]
  },
  {
   "cell_type": "raw",
   "metadata": {
    "collapsed": true
   },
   "source": [
    "    double Newton_nestedform(Matrix& a, Matrix& xnodes,double x)"
   ]
  },
  {
   "cell_type": "markdown",
   "metadata": {},
   "source": [
    "which would evaluate the Newton form $p_n(x)$ using nested multiplication. It would take the coefficients in a Matrix a as a parameter, along with the x nodes and the x used to evaluate. The function would return the evaluation $p_n(x)$.<br><br> "
   ]
  },
  {
   "cell_type": "raw",
   "metadata": {
    "collapsed": true
   },
   "source": [
    "    Matrix Newton_coefficients(Matrix& xnodes, Matrix& ynodes)"
   ]
  },
  {
   "cell_type": "markdown",
   "metadata": {},
   "source": [
    "This function constructs the Newton form of an interpolating polynomial. The two input matrices contain the x-values and y-values of the data points $(x_0,y_0),(x_1,y_1)...$ to be used by the function. The output matrix contains the coefficients $a_0,a_1,...$ for the Newton form.<br><br>"
   ]
  },
  {
   "cell_type": "markdown",
   "metadata": {},
   "source": [
    "Finally, we would write a C++ file test_Newtonform.cpp to test those functions by interpolating the data $(x_i,y_i) (0<=i<=4)$ generated by the polynomial $f(x)= 3.1x^4+2.3x^3-6.6x^2+8.7x+7.9$, where the nodes $x_i$ are -2,-1,0,1,2 and $y_i = f(x_i)$. <br><br> \n",
    "After constructing the interpolating polynomial $p_4(x)$, we would plot it along with the function $f(x)$, by evaluating them both at 201 equally spaced x-values on the interval [-3,3]. In another figure we would plot the error $f(x) - p_4(x)$ using the same 201 points. Theoretically, we would expect $p_4(x)$ and $f(x)$ to be very similar, even though we do not take a lot of interpolating nodes, because the interpolating polynomial goes through the data points defined and the error we get should be very small, approaching 0 and no greater than 1. "
   ]
  },
  {
   "cell_type": "markdown",
   "metadata": {},
   "source": [
    "<br><br> \n",
    "The following code was used to construct and evaluate the interpolating polynomial $p_4(x)$. In the code we would start by declaring the data points and evaluating the coefficients matrix for them. We then move on to calculating the interpolation matrix, the actual $f(x)$ values and the error, as described in the comments. <br><br>"
   ]
  },
  {
   "cell_type": "raw",
   "metadata": {
    "collapsed": true
   },
   "source": [
    "/*\n",
    "MATH3316 Project3 \n",
    "Author: Stefan Popov\n",
    "Oct 23rd 2016\n",
    "*/\n",
    "#include <iostream>\n",
    "#include \"matrix.hpp\"\n",
    "#include <vector>\n",
    "#include \"fcn.hpp\"\n",
    "using namespace std;\n",
    "vector<double> as;\n",
    "    \n",
    "class fcn : public Fcn {\n",
    "public:\n",
    "  double operator()(double x) {   // function evaluation\n",
    "    return (3.1*x*x*x*x + 2.3*x*x*x - 6.6*x*x + 8.7*x + 7.9);\n",
    "  }\n",
    "};\n",
    "\n",
    "\n",
    "double Newton_basis(Matrix& xnodes, int n, double x);\n",
    "double Newton_nestedform(Matrix& a, Matrix& xnodes, double x);\n",
    "Matrix Newton_coefficients(Matrix& xnodes, Matrix& ynodes);\n",
    "\n",
    "\n",
    "int main(){\n",
    "    //declare f \n",
    "    fcn f;\n",
    "    //declare xi vector\n",
    "    vector<double> xi= {-2,-1,0,1,2};\n",
    "    //declare and evaluate yi\n",
    "    vector<double> yi;\n",
    "    for ( int i=0; i<5; i++){\n",
    "        yi.push_back( f(xi[i]));\n",
    "    }\n",
    "    //construct matrix with the above vectors\n",
    "    Matrix xis(xi);\n",
    "    Matrix yis(yi);\n",
    "\n",
    "    //construct matrix of coefficients by calling the Newton_coefficients method\n",
    "    Matrix aMatrix= Newton_coefficients(xis,yis);\n",
    "\n",
    "    //construct the xValues by creating a Matrix of equally spaced doubles from -3 to 3\n",
    "    Matrix xValues= Linspace(-3,3,1,201);\n",
    "\n",
    "    //declare vectors \n",
    "    vector<double> xInterpolated;\n",
    "    vector<double> fxs;\n",
    "    vector<double> errorVector;\n",
    "\n",
    "    //fill the xInterpolated vector with corresponding value and \n",
    "    //fill f(x) vector and the error vector accordingly\n",
    "    for ( int i=0 ;i < xValues.Cols();i++){\n",
    "        double xInter =Newton_nestedform(aMatrix,xis,xValues[i][0]);\n",
    "        xInterpolated.push_back(xInter);\n",
    "        double fx = f(xValues[i][0]);\n",
    "        fxs.push_back(fx);\n",
    "        errorVector.push_back(fx-xInter);\n",
    "    }\n",
    "\n",
    "    //convert vectors to matrices and write to file\n",
    "    Matrix xInterpol(xInterpolated);\n",
    "    Matrix fxMatrix(fxs);\n",
    "    Matrix errorMatrix(errorVector);\n",
    "    xInterpol.Write(\"xInterpol.txt\");\n",
    "    fxMatrix.Write(\"y.txt\");\n",
    "    errorMatrix.Write(\"error.txt\");\n",
    "    xValues.Write(\"x.txt\");\n",
    "    return 0;\n",
    "}\n",
    "\n",
    "//Newton_basis function accepts the xNodes, an integer n and \n",
    "//the double x. It returns the newton basis by simply iterating \n",
    "//over the xNodes matrix and evaluating at each point\n",
    "double Newton_basis(Matrix& xnodes, int n, double x){\n",
    "    double phi= 1.0;\n",
    "    for(int i=0 ; i < n; i++){\n",
    "        phi*= (x-xnodes[0][i]);\n",
    "    }\n",
    "    return phi;\n",
    "}\n",
    "\n",
    "//Newton_nestedform accepts the coefficients matrix a, the \n",
    "//x nodes matrix and a double x. It returns the evaluation of p_n(x)\n",
    "//by calling the Newton_basis function and multiplying by the \n",
    "//corresponding coefficient in the a matrix\n",
    "double Newton_nestedform(Matrix& a, Matrix& xnodes, double x){\n",
    "    double pnOfX=0.0;\n",
    "\n",
    "    for(int i= 0 ; i< a.Rows(); i++){\n",
    "        pnOfX+=Newton_basis(xnodes,i, x)*a[0][i];\n",
    "    }\n",
    "    return pnOfX;\n",
    "}\n",
    "//Newton_coefficients method accepts the x and y nodes and returns the updates the coefficients matrix\n",
    "Matrix Newton_coefficients(Matrix& xnodes, Matrix& ynodes){\n",
    "    for(int i = 0; i< xnodes.Rows(); i++){\n",
    "        Matrix asTemp(as);\n",
    "        double firstPart = ynodes[0][i] - Newton_nestedform(asTemp,xnodes, xnodes[0][i]);\n",
    "        double secondPart =(Newton_basis(xnodes,i,xnodes[0][i]));\n",
    "        as.push_back((firstPart)/secondPart);\n",
    "    }\n",
    "    Matrix aMatrix(as);\n",
    "    return aMatrix;\n",
    "}\n"
   ]
  },
  {
   "cell_type": "markdown",
   "metadata": {},
   "source": [
    "<br><br> \n",
    "The code produced the following plots when loaded into our jupyter notebook. <br><br>"
   ]
  },
  {
   "cell_type": "code",
   "execution_count": 4,
   "metadata": {
    "collapsed": false
   },
   "outputs": [
    {
     "name": "stdout",
     "output_type": "stream",
     "text": [
      "Populating the interactive namespace from numpy and matplotlib\n"
     ]
    }
   ],
   "source": [
    "%pylab inline\n",
    "error = loadtxt('error.txt')\n",
    "x = loadtxt('x.txt')\n",
    "xInterpol= loadtxt('xInterpol.txt')\n",
    "y = loadtxt('y.txt')"
   ]
  },
  {
   "cell_type": "code",
   "execution_count": 5,
   "metadata": {
    "collapsed": false
   },
   "outputs": [
    {
     "data": {
      "text/plain": [
       "[<matplotlib.lines.Line2D at 0x7fb88c892cf8>]"
      ]
     },
     "execution_count": 5,
     "metadata": {},
     "output_type": "execute_result"
    },
    {
     "data": {
      "image/png": "[encoded data removed]",
      "text/plain": [
       "<matplotlib.figure.Figure at 0x7fb88c892e80>"
      ]
     },
     "metadata": {},
     "output_type": "display_data"
    }
   ],
   "source": [
    "plot(x,y)\n",
    "xlabel('x')\n",
    "ylabel('y')\n",
    "title('Interpolated vs Actual value')\n",
    "plot(x, xInterpol)"
   ]
  },
  {
   "cell_type": "markdown",
   "metadata": {},
   "source": [
    "As expected, the interpolating polynomial $p_4(x)$ produces very similar results to what is presented by $f(x)$. This is because the polynomial was built to go through the same data points and only slight errors might occur at times. The plots are virtually the same and any big changes or fluctuations cannot be noticed just by looking at this graph. To make a better assessment, we would need to take a look at the error this polynomial yields by plotting it."
   ]
  },
  {
   "cell_type": "code",
   "execution_count": 9,
   "metadata": {
    "collapsed": false
   },
   "outputs": [
    {
     "data": {
      "text/plain": [
       "<matplotlib.text.Text at 0x7fb889a3f3c8>"
      ]
     },
     "execution_count": 9,
     "metadata": {},
     "output_type": "execute_result"
    },
    {
     "data": {
      "image/png": "[encoded data removed]",
      "text/plain": [
       "<matplotlib.figure.Figure at 0x7fb889b1f588>"
      ]
     },
     "metadata": {},
     "output_type": "display_data"
    }
   ],
   "source": [
    "\n",
    "plot(x,error)\n",
    "\n",
    "xlabel('x')\n",
    "ylabel('error')\n",
    "title('Error $f(x)-p_4(x)$')"
   ]
  },
  {
   "cell_type": "markdown",
   "metadata": {
    "collapsed": true
   },
   "source": [
    "The plot of the error $f(x) - p_4(x)$ shows us that there are varying errors that mainly occur around the edges of our data set, with much greater oscillation at the positive end than there is at the negative end. This could have been affected by several factors, such as our choice of interpolating nodes, the size of the data set and the function we are trying to interpolate. The function could be causing these, because of great increases around those edges. To test this, we take the plot of the function from another plotting system : <img src='plotNewton.png'></img>"
   ]
  },
  {
   "cell_type": "markdown",
   "metadata": {},
   "source": [
    "We can easily how the function grows exponentially around the edges of our interval, which is the most probable cause of the worsening of our interpolating polynomial's quality. Over a bigger interval, we would get even bigger oscilattins in the error of the interpolating polynomial."
   ]
  },
  {
   "cell_type": "markdown",
   "metadata": {},
   "source": [
    "<br><br><br><br><br><br>\n",
    "### <center>2. Multi-dimensional interpolation</center>\n",
    "\n",
    "After being provided a C++ function for evaluating the polynomial interpolant of a set of data points using the Lagrange basis, we were to carry out multi-dimensional interpolation, using the simplest approach, when the data is regularly-spaced over a rectangle and the interpolant is created as a multi-dimensional version of the Lagrange interpolating polynomial. By considering the 1D Lagrange basis functions provided, we may construct a set of 2D Lagrange basis functions via the product of the two bases <br><br> $$l_{i,j}(x,y)= \\phi_i(x)\\psi(y)$$ <br><center>where $i=1,...,m$ and   $j=1,...,n$. </center>\n"
   ]
  },
  {
   "cell_type": "markdown",
   "metadata": {},
   "source": [
    "Our 2D Lagrange interpolant for an arbitrary function $f(x,y)$ at the nodes $(x_i,y_j)$ may be computed at a point $(a,b)$ as $$p(a,b)=\\sum_{i=0}^{m}\\sum_{j=0}^nf(x_i,y_j)l_{i,j}(a,b)$$<br>\n",
    "We would construct the C++ function Lagrange2D with the following signature "
   ]
  },
  {
   "cell_type": "markdown",
   "metadata": {},
   "source": [
    "<center><b>double Lagrange2D(Matrix& x, Matrix& y, Matrix& f, double a, double b);</b></center>"
   ]
  },
  {
   "cell_type": "markdown",
   "metadata": {},
   "source": [
    "where x is the input vector of length $m+1$, y is an input vector of length $n+1$, f is an input matrix\n",
    "in $R^{(m+1)×(n+1)}$ that holds the function values $f(x_i,y_j)$, and the doubles $a$ and $b$ correspond to an evaluation point in the $x-y$ plane. The function evaluates and returns $p(a,b)$. The function was tested with the provided test routine in the file <b>test_Lagrange2D.cpp</b> along with the jupyter notebook plot_Lagrange2D.ipynb."
   ]
  },
  {
   "cell_type": "markdown",
   "metadata": {},
   "source": [
    "In the Jupyter notebook provided, the python script in the notebook printed the following to the screen, which shows us that the error decreases as we increase the interpolating nodes, which was expected  for this function : "
   ]
  },
  {
   "cell_type": "raw",
   "metadata": {
    "collapsed": true
   },
   "source": [
    "p10 success!  ||e10|| =  0.0575277609593  is below tolerance of  0.058\n",
    "p20 success!  ||e20|| =  3.69151159696e-08  is below tolerance of  3.7e-08"
   ]
  },
  {
   "cell_type": "markdown",
   "metadata": {},
   "source": [
    "The plot with the higher number of interpolating nodes shows a better resemblance of the original one, and the error oscillates less around the edges, compared to the one with less nodes."
   ]
  },
  {
   "cell_type": "markdown",
   "metadata": {},
   "source": [
    "To achieve this, the following C++ Code was written in a file called <b>Lagrange2D.cpp</b> and compiled with the Makefile:"
   ]
  },
  {
   "cell_type": "raw",
   "metadata": {
    "collapsed": true
   },
   "source": [
    "/*\n",
    "MATH3316 Project3 \n",
    "Author: Stefan Popov\n",
    "Oct 23rd 2016\n",
    "*/\n",
    "#include <stdlib.h>\n",
    "#include <stdio.h>\n",
    "#include <iostream>\n",
    "#include <math.h>\n",
    "#include \"matrix.hpp\"\n",
    "\n",
    "using namespace std;\n",
    "\n",
    "//Lagrange2D evaluates the 2D Lagrange given the input vectors x,y,z and coefficients a and b\n",
    "\n",
    "double Lagrange2D(Matrix& x, Matrix& y, Matrix& z, double a, double b){\n",
    "  double result = 0.0;\n",
    "\n",
    "  for( int i=0; i< x.Rows(); i++){\n",
    "    for(int j=0; j<y.Rows(); j++){\n",
    "        result += z(j, i) * Lagrange_basis(x, j, a) * Lagrange_basis(y, i, b);\n",
    "    }\n",
    "\n",
    "  }\n",
    "  return result;\n",
    "}"
   ]
  },
  {
   "cell_type": "markdown",
   "metadata": {},
   "source": [
    "As seen, this function iterates over the x and y nodes and appends the product of the result of the function, the Lagrange basis for x, j and a and the Lagrange basis for y, i and b."
   ]
  },
  {
   "cell_type": "markdown",
   "metadata": {},
   "source": [
    "<br><br><br><br><br><br>\n",
    "### <center> 3. The importance of nodes</center>\n",
    "\n",
    "For this part of the project, we were to consider the two-dimensional Runge function $$f(x,y)= \\frac{1}{1+x^2+y^2}$$ in the rectangle $(x,y) \\in $ [-4,4]x[-4,4]. \n",
    "<br><br><br>\n",
    "#### <center>3.1 Runge function using uniformly-spaced nodes.</center>\n",
    "In a single C++ main() routine in a file Runge_uniform.cpp, we were supposed to afccomplish the following tasks: \n",
    "<ul>\n",
    "    <li>Create a set of (m+1) evenly-spaced nodes, x, over the interval [-4,4].</li>\n",
    "    <li>Create a set of (n+1) evenly-spaced nodes, y, over the interval [-4,4].</li>\n",
    "    <li>Create a matrix $f\\in R^{(m+1)x(n+1)}$ that contains the function values $f(x_i,y_j)$</li>\n",
    "    <li>Create an array of 201 evenly-spaced evaluation points, a, over the interval [-4,4] and output this to disk as the file <b>avals.txt</b>.</li>\n",
    "    <li>Create an array of 101 evenly-spaced evaluation points, b over the interval [-4,4] and output this to disk as the file <b>bvals.txt</b>.</li>\n",
    "    <li>Use the Lagrange2D() function from the previous section of this project to evaluate the polynomial interpolant $p(a_i,b_j)$ at teh 201x101 evaluation points, storing the result in the matrices $p_6 \\in R^{201x101}$ and $p_{24} \\in R^{201x101}$ </li>\n",
    "    <li>Output $p_6$ and $p_{24}$ to disk to files named <b>p6_uni.txt</b> and <b>p24_uni.txt</b></li>\n",
    "    <li>Lastly, fill a matrix runge $\\in R^{201x101}$ with the correct values of $f(a_i,b_j)$ and output this to disk in a file named <b> Runge.txt</b> </li>\n",
    "</ul><br><br>"
   ]
  },
  {
   "cell_type": "markdown",
   "metadata": {},
   "source": [
    "To fullfil all the above the following C++ code was written in a file named Runge_uniform.cpp. In the code, an interpolate() function was declared to reuse the code for the $p_6$ and $p_{24}$ polynomials. The function accepts as parameters the integers m and n and the string that contains the name of the corresponding output file and then performs all the above mentioned tasks with the specific m and n provided. Furthermore, the set of x and y nodes were declared as column vectors, which required to overwrite the Lagrange2D() function to iterate over column vectors instead of row vectors. The comments in the code should further explain the steps followed to develop this solution."
   ]
  },
  {
   "cell_type": "raw",
   "metadata": {
    "collapsed": true
   },
   "source": [
    "/*\n",
    "MATH3316 Project3 \n",
    "Author: Stefan Popov\n",
    "Oct 23rd 2016\n",
    "*/\n",
    "\n",
    "#include <iostream>\n",
    "#include <string>\n",
    "#include \"matrix.hpp\"\n",
    "#include \"Lagrange.cpp\"\n",
    "using namespace std;\n",
    "\n",
    "\n",
    "void interpolate(int m, int n, string outputFile);\n",
    "\n",
    "double Lagrange2D(Matrix& x, Matrix& y, Matrix& z, double a, double b);\n",
    "\n",
    "int main(){\n",
    "\t//declare runge function\n",
    "\n",
    "\t//declare n = m =6\n",
    "\tint n1=6, m1=6;\n",
    "\tint n2=24, m2=24;\n",
    "\n",
    "\t//call interpolate function\n",
    "\tinterpolate(n1,m1, \"p6_uni.txt\");\n",
    "\tinterpolate(n2,m2, \"p24_uni.txt\");\n",
    "\t\n",
    "}\n",
    "\n",
    "void interpolate(int m, int n, string outputFile){\n",
    "\t//declare f\n",
    "\tauto f = [](const double x, const double y) -> double { \n",
    "    \treturn 1/(1+x*x+y*y);\n",
    "  \t};\n",
    "\t\n",
    "\t//create a set of m+1 nodes from -4 to 4  \n",
    "\tMatrix xNodes = Linspace(-4,4,1,m+1);\n",
    "\n",
    "\t//create a set of n+1 nodes from -4 to 4  \n",
    "\tMatrix yNodes = Linspace(-4,4,1,n+1);\n",
    "\n",
    "\t//create a matrix with dimensions [m+1][n+1] for the function values f(x_i,y_i)\n",
    "\tMatrix fValues(m+1,n+1);\n",
    "\t//fill values for f matrix\n",
    "\tfor(int i=0; i<m+1;i++){\n",
    "\t\tfor(int j=0; j<n+1;j++){\n",
    "\t\t\tfValues[j][i]=f(xNodes[i][0],yNodes[j][0]);\n",
    "\t\t}\n",
    "\t}\n",
    "\n",
    "\n",
    "\t//create an array of 201 evenly spaced evaluation points\n",
    "\tMatrix aVals = Linspace(-4,4,1,201);\n",
    "\t//write to disk\n",
    "\taVals.Write(\"avals.txt\");\n",
    "\n",
    "\t//create an array of 101 evenly spaced evaluation points\n",
    "\tMatrix bVals = Linspace(-4,4,1,101);\n",
    "\t//write to disk\n",
    "\tbVals.Write(\"bvals.txt\");\n",
    "\t\n",
    "\tfValues.Write(\"zVals.txt\");\n",
    "\n",
    "\tMatrix p6(201,101);\n",
    "\t//evaluate the polynomial interpolant p(a_i,b_j)\n",
    "\tfor( int i = 0 ; i < aVals.Cols(); i++){\n",
    "\t\tfor ( int j=0 ; j<bVals.Cols(); j++){\n",
    "\t\t\tp6(i,j) = Lagrange2D(xNodes, yNodes, fValues, aVals[i][0], bVals[j][0]);\n",
    "\t\t}\n",
    "\t}\n",
    "\n",
    "\t//find f(a,b)\t\n",
    "\tMatrix Runge(201,101);\n",
    "\tfor( int i = 0 ; i < aVals.Cols(); i++){\n",
    "\t\tfor ( int j=0 ; j<bVals.Cols(); j++){\n",
    "\t\t\tRunge[j][i] = f(aVals[i][0],bVals[j][0]);\n",
    "\t\t}\n",
    "\t}\n",
    "\t//write to files\n",
    "\tRunge.Write(\"Runge.txt\");\n",
    "\n",
    "\tp6.Write(outputFile.c_str());\n",
    "\n",
    "}\n",
    "//lagrange2D function evaluator\n",
    "double Lagrange2D(Matrix& x, Matrix& y, Matrix& z, double a, double b){\n",
    "  double result = 0.0;\n",
    "  for( int i=0; i< x.Cols(); i++){\n",
    "    for(int j=0; j<y.Cols(); j++){\n",
    "        result += z(i, j) * Lagrange_basis(x, i, a) * Lagrange_basis(y, j, b);\n",
    "    }\n",
    "\n",
    "  }\n",
    "  return result;\n",
    "\n",
    "\n",
    "}"
   ]
  },
  {
   "cell_type": "markdown",
   "metadata": {},
   "source": [
    "<br><br><br><br>\n",
    "#### <center>3.2 Runge function using Chebyshev nodes </center>\n",
    "In this part, instead of using uniformly-spaced nodes we were to use Chebyshev nodes, given by the formula for (m+1) Chebyshev nodes over the interval [-L,L] $$x_i=Lcos{\\frac{(2i+1)\\pi}{2m+2}}$$ <center>for $i=0,...,m$</center><br>\n",
    "In a single C++ main() routine in a file <b> Runge_Chebyshev.cpp</b> we would repeat the steps in 3.1, but using the output files <b> p6_Cheb.txt</b> and <b> p24_Cheb.txt</b>.<br><br>\n",
    "\n"
   ]
  },
  {
   "cell_type": "markdown",
   "metadata": {},
   "source": [
    "Similarly, to fullfil the requirements for Chebyshev nodes the following C++ code was written in a file named Runge_Chebyshev.cpp. In the code, an interpolate() function was declared to reuse the code for the $p_6$ and $p_{24}$ polynomials. The function accepts as parameters the integers m and n and the string that contains the name of the corresponding output file and then performs all the above mentioned tasks with the specific m and n provided. Furthermore, the set of x and y nodes were declared as column vectors, which required to overwrite the Lagrange2D() function to iterate over column vectors instead of row vectors. The comments in the code should further explain the steps followed to develop this solution. <br>"
   ]
  },
  {
   "cell_type": "raw",
   "metadata": {
    "collapsed": true
   },
   "source": [
    "/*\n",
    "MATH3316 Project3 \n",
    "Author: Stefan Popov\n",
    "Oct 23rd 2016\n",
    "*/\n",
    "\n",
    "#include <iostream>\n",
    "#include <string>\n",
    "#include <math.h>\n",
    "#include \"matrix.hpp\"\n",
    "#include \"Lagrange.cpp\"\n",
    "using namespace std;\n",
    "\n",
    "\n",
    "void interpolate(int m, int n, string outputFile);\n",
    "\n",
    "double Lagrange2D(Matrix& x, Matrix& y, Matrix& z, double a, double b);\n",
    "\n",
    "int main(){\n",
    "\t//declare runge function\n",
    "\n",
    "\t//declare n = m =6\n",
    "\tint n1=6, m1=6;\n",
    "\tint n2=24, m2=24;\n",
    "\n",
    "\t//call interpolate function\n",
    "\tinterpolate(n1,m1, \"p6_Cheb.txt\");\n",
    "\tinterpolate(n2,m2, \"p24_Cheb.txt\");\n",
    "\t\n",
    "}\n",
    "\n",
    "\n",
    "//evaluate chebyshevNodes\n",
    "Matrix chebyshevNodesBuild(int m){\n",
    "\tMatrix x(1,m+1);\n",
    "\tfor(int i =0 ;i <m+1; i++){\n",
    "\t\tx[i][0]= 4*cos((2*(i+1)*M_PI)/(2*m+2));\n",
    "\t}\n",
    "\treturn x;\n",
    "}\n",
    "\n",
    "void interpolate(int m, int n, string outputFile){\n",
    "\t//declare function\n",
    "\tauto f = [](const double x, const double y) -> double { \n",
    "    \treturn 1/(1+x*x+y*y);\n",
    "  \t};\n",
    "\t\n",
    "\t//create a set of m+1 chebyshev  \n",
    "\tMatrix xNodes = chebyshevNodesBuild(m);\n",
    "\n",
    "\t//create a set of n+1 chebyshev nodes  \n",
    "\tMatrix yNodes = chebyshevNodesBuild(n);\n",
    "\n",
    "\t//create a matrix with dimensions [m+1][n+1] for the function values f(x_i,y_i)\n",
    "\tMatrix fValues(m+1,n+1);\n",
    "\t//fill values for f matrix\n",
    "\tfor(int i=0; i<m+1;i++){\n",
    "\t\tfor(int j=0; j<n+1;j++){\n",
    "\t\t\tfValues[j][i]=f(xNodes[i][0],yNodes[j][0]);\n",
    "\t\t}\n",
    "\t}\n",
    "\n",
    "\n",
    "\t//create an array of 201 evenly spaced evaluation points\n",
    "\tMatrix aVals = Linspace(-4,4,1,201);\n",
    "\t//write to disk\n",
    "\taVals.Write(\"avals.txt\");\n",
    "\n",
    "\t//create an array of 101 evenly spaced evaluation points\n",
    "\tMatrix bVals = Linspace(-4,4,1,101);\n",
    "\t//write to disk\n",
    "\tbVals.Write(\"bvals.txt\");\n",
    "\t\n",
    "\n",
    "\n",
    "\tMatrix p6(201,101);\n",
    "\t//evaluate the polynomial interpolant p(a_i,b_j)\n",
    "\tfor( int i = 0 ; i < aVals.Cols(); i++){\n",
    "\t\tfor ( int j=0 ; j<bVals.Cols(); j++){\n",
    "\t\t\tp6[j][i] = Lagrange2D(xNodes, yNodes, fValues, aVals[i][0], bVals[j][0]);\n",
    "\t\t}\n",
    "\t}\n",
    "\n",
    "\t\n",
    "\t//write to file\n",
    "\tp6.Write(outputFile.c_str());\n",
    "\n",
    "}\n",
    "double Lagrange2D(Matrix& x, Matrix& y, Matrix& z, double a, double b){\n",
    "  double result = 0.0;\n",
    "\n",
    "  for( int i=0; i< x.Cols(); i++){\n",
    "    for(int j=0; j<y.Cols(); j++){\n",
    "        result += z(j, i) * Lagrange_basis(x, j, a) * Lagrange_basis(y, i, b);\n",
    "    }\n",
    "\n",
    "  }\n",
    "  return result;\n",
    "\n",
    "}"
   ]
  },
  {
   "cell_type": "markdown",
   "metadata": {
    "collapsed": true
   },
   "source": [
    "### 3.3. Graphing and analysis of results\n",
    "To examine our results, we would load all created files using the Numpy loadtxt command and plot each surface in separate figure windows.<br>Afterwards, we would compute the error in each polynomial interpolant $err_{i,j}=|f_{i,j}-p_{i,j}|$ and plot those in separate figure windows. <br> \n",
    "All the plots and error evaluations were performed in the second separate Jupyter Notebook called Runge2D.ipynb, which can be found in the packet. The following analysis is based on the results displayed in the graphs there and will refer to them."
   ]
  },
  {
   "cell_type": "markdown",
   "metadata": {},
   "source": [
    "The first plot presented in the Runge2D jupyter notebook is the function evaluation for the Runge function over the a and b nodes. All other plots will be compared to that specific one and evaluated based on the similarity and error to it.<br><br>\n",
    "##### 3.3.1. $p_6$ for uniformly spaced nodes\n",
    "As seen in the graph for $p_6$ for uniformly spaced nodes, there are big fluctuations around the edges of the graph, even though near x=0 and y=0 the graphs look somewhat familiar. This is caused by the fact that we are using very little evaluation nodes, which are uniformly-spaced, thus not providing a perfect estimation for the problem. The error plot $|f(x,y) - p_{6uni}|$ confirms our previous assumption : the graph fluctuates around the edges and has little error around x=0 y=0.<br><br>\n",
    "\n",
    "##### 3.3.2. $p_{24}$ for uniformly spaced nodes\n",
    "The graph for $p_{24}$ shows us the so-called Runge's phenomenon. Even though we increase the number of nodes, since they are uniformly-spaced we experience great oscillation around the edges, which is contrary to what we would have expected when increasing the number of uniformly-spaced nodes over an interval. This does not follow Weierstrass'theorem, because the theorem does not state how to find the interpolating polynomial. The error around the edges is very big and also confirms these oscillations. <br><br>\n",
    "\n",
    "##### 3.3.3. $p_6$ for Chebyshev nodes\n",
    "For Chebyshev nodes, we notice a lot more similarity between the original and the Chebyshev $p_6$ polynomial, however, the elevation of the newly graphed polynomial begins a lot earlier than it should, according to the original. The error is comparative to the error presented in the first polynomial graphed in magnitude, however, it appears a lot less around the edges. <br><br>\n",
    "\n",
    "##### 3.3.4. $p_{24}$ for Chebyshev nodes\n",
    "Unlike the graph for uniform nodes, we do not witness Runge's phenonemon, as the Chebyshev nodes are specially built and not uniformly spaced. This graph resembles maximally the original and the error between the two is very low and mainly around x=0 and y=0. \n",
    "\n",
    "##### 3.3.5 Ranking\n",
    "In terms of quality, these four interpolants would be ranked in the following order : <br>\n",
    "<ol>\n",
    "    <li> $p_{24}$ for Chebyshev nodes </li>\n",
    "    <li> $p_6$ for Chebyshev nodes </li>\n",
    "    <li> $p_6$ for uniformly-spaced nodes</li>\n",
    "    <li> $p_{24}$ for uniformly-spaced nodes </li>\n"
   ]
  },
  {
   "cell_type": "markdown",
   "metadata": {},
   "source": [
    "<br><br><br><br>\n",
    "## 4. Makefile\n",
    "The following Makefile was used to achieve all mentioned in 0.<br>"
   ]
  },
  {
   "cell_type": "raw",
   "metadata": {
    "collapsed": true
   },
   "source": [
    "###################################################################\n",
    "#  Makefile for project 3\n",
    "#\n",
    "#  Daniel R. Reynolds\n",
    "#  SMU Mathematics\n",
    "#  Math 3316\n",
    "#  28 September 2015\n",
    "# Edited by Stefan Popov on Oct 23 2016 for Project 3 in Math 3316\n",
    "###################################################################\n",
    "\n",
    "# compiler & flags\n",
    "CXX = g++\n",
    "CXXFLAGS = -O2 -std=c++11\n",
    "\n",
    "# makefile targets\n",
    "all : test_Lagrange.exe test_Lagrange2D.exe test_newton.exe Runge_Chebyshev.exe Runge_uniform.exe\n",
    "\n",
    "test_Lagrange.exe : Lagrange.cpp test_Lagrange.cpp matrix.cpp\n",
    "\t$(CXX) $(CXXFLAGS) $^ -o $@\n",
    "\n",
    "test_Lagrange2D.exe : test_Lagrange2D.cpp matrix.cpp\n",
    "\t$(CXX) $(CXXFLAGS) $^ -o $@\n",
    "\n",
    "test_newton.exe : test_newton.cpp matrix.cpp\n",
    "\t$(CXX) $(CXXFLAGS) $^ -o $@\n",
    "\n",
    "Runge_uniform.exe : Runge_uniform.cpp matrix.cpp\n",
    "\t$(CXX) $(CXXFLAGS) $^ -o $@\n",
    "\n",
    "Runge_Chebyshev.exe : Runge_Chebyshev.cpp matrix.cpp\n",
    "\t$(CXX) $(CXXFLAGS) $^ -o $@\n",
    "\n",
    "clean :\n",
    "\t\\rm -f *.o *.txt\n",
    "\n",
    "realclean : clean\n",
    "\t\\rm -f *.exe *~\n",
    "\n",
    "\n",
    "####### End of Makefile #######\n"
   ]
  }
 ],
 "metadata": {
  "anaconda-cloud": {},
  "kernelspec": {
   "display_name": "Python [Root]",
   "language": "python",
   "name": "Python [Root]"
  },
  "language_info": {
   "codemirror_mode": {
    "name": "ipython",
    "version": 3
   },
   "file_extension": ".py",
   "mimetype": "text/x-python",
   "name": "python",
   "nbconvert_exporter": "python",
   "pygments_lexer": "ipython3",
   "version": "3.5.2"
  }
 },
 "nbformat": 4,
 "nbformat_minor": 0
}
