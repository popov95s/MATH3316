{
 "cells": [
  {
   "cell_type": "markdown",
   "metadata": {},
   "source": [
    "# <center>Project 3 </center>\n",
    "## <center>Stefan Popov</center><br>\n",
    " <center>Oct 25th 2016</center><br><br>\n",
    "<center>MATH3316/CSE3366</center><br><br>\n",
    "\n",
    "\n",
    "\n",
    "\n",
    "\n"
   ]
  },
  {
   "cell_type": "markdown",
   "metadata": {},
   "source": [
    "<br><br><br><br>\n",
    "### <center>0. Building the project. </center>\n",
    "\n",
    "  This project comes with a provided Makefile, as specified in the instructions. To build all executables for this project, simply use the command <br><br>\n",
    "<div align=\"center\"><i>make</i></div> <br> in Terminal or Command Prompt. <br><br> The executable  <br><br>\n",
    "\n",
    "<div align=\"center\"><i>test_newton.exe</i></div> <br><br> would need to be manually executed to create the required files for this project. <br><br>This executable would create the needed files for part 1. of this project, that would later be plotted in this Jupyter Notebook. <br><br>  To test the validity of the Lagrange2D() method required in part 2., run the executable <br><br>\n",
    "<div align=\"center\"><i>test_Lagrange.exe </i></div><br><br> which was provided in the project description. \n",
    "<br><br>\n",
    "<div align=\"center\"><i>Runge_uniform.exe</i></div><br><br>\n",
    "would create all required files for the plots in part 3.1. <br><br>\n",
    "<div align=\"center\"><i>Runge_Chebyshev.exe</i></div><br><br>\n",
    "would create all required files for the plots in part 3.2.\n",
    "\n",
    "\n",
    "<br><br><br><br>\n",
    "To delete all output files simply use the command \n",
    "<div align=\"center\"><i>make clean</i></div><br><br>\n",
    "To delete all output files and executables, type in \n",
    "<div align=\"center\"><i>make realclean</i></div><br><br>\n"
   ]
  },
  {
   "cell_type": "markdown",
   "metadata": {},
   "source": [
    "<br><br><br><br>\n",
    "### <center>1. Newton Interpolation</center>\n",
    "In the first part of this project, we were to construct an interpolating polynomial in Newton form. To do so, we were given the following specifications : <br><br>\n",
    "When asked to interpolate $n+1$ distinct data points $(x_0,y_0),(x_1,y_1), ... , (x_n,y_n)$ by a polynomial of formal degree n using Newton form as<br><br> $$p_n(x)= a_0 + a_1(x-x_0)+ a_2(x-x_0)(x-x_1) +       ... + a_n(x-x_0)(x-x_1)...(x-x_{n-1})$$<br><br>\n",
    "\n",
    "We would take the construction of Newton form to be the process for determining the n+1 unknown coefficients $a_0,a_1, ..., a_n$ using the $n+1$ interpolating conditions $p_n(x_0)=y_0, p_n(x_1)=y_1, ... , p_n(x_n)=y_n$. If one more data point $(x_{n+1},y_{n+1})$ is added to the previous $n+1$ data points, the new interpolating polynomial of degree $n+1$ that interpolates the expanded data set can be written as <br><br>$$p_{n+1}(x)=p_n(x)+ a_{n+1}(x-x_0)(x-x_1)...(x-x_n).$$<br><br>\n",
    "The extra coefficient $a_{n+1}$ is given by $$a_{n+1}= \\frac{y_{n+1} - p_n(x_{n+1})}{(x_{n+1}-x_0)(x_{n+1}-x_1)...(x_{n+1} - x_n)}$$<br><br>\n",
    "providing a recursive formula to find the coefficients $a_1,a_2,...$ by starting with $p_0(x)=a_0=y_0$ and letting $n$ take tha values $0,1,...$ in the above formula.<br><br>\n",
    "When using the above recursion we would need to acquire $p_n(x_{n+1})$, which we would do by using nested multiplication. The product $(x_{n+1} - x_0)(x_{n+1}-x_1)...(x_{n+1}-x_n)$ by evaluatin the Newton's basis function <br><br>$$\\phi_{n+1}(x)=(x-x_0)(x-x_1)...(x-x_n)$$<br><br>"
   ]
  },
  {
   "cell_type": "markdown",
   "metadata": {},
   "source": [
    "We would write three C++ functions to fulfill the above : "
   ]
  },
  {
   "cell_type": "raw",
   "metadata": {},
   "source": [
    "    double Newton_basis(Matrix& nodes, int n, double x)"
   ]
  },
  {
   "cell_type": "markdown",
   "metadata": {},
   "source": [
    "which purpose is to evaluate the Newton basis function $\\phi_{n+1}(x)$. The nodes are passed to the function as a matrix object, as well as the value of x and it returns the evaluation. <br><br> "
   ]
  },
  {
   "cell_type": "raw",
   "metadata": {},
   "source": [
    "    double Newton_nestedform(Matrix& a, Matrix& xnodes,double x)"
   ]
  },
  {
   "cell_type": "markdown",
   "metadata": {},
   "source": [
    "which would evaluate the Newton form $p_n(x)$ using nested multiplication. It would take the coefficients in a Matrix a as a parameter, along with the x nodes and the x used to evaluate. The function would return the evaluation $p_n(x)$.<br><br> "
   ]
  },
  {
   "cell_type": "raw",
   "metadata": {},
   "source": [
    "    Matrix Newton_coefficients(Matrix& xnodes, Matrix& ynodes)"
   ]
  },
  {
   "cell_type": "markdown",
   "metadata": {},
   "source": [
    "This function constructs the Newton form of an interpolating polynomial. The two input matrices contain the x-values and y-values of the data points $(x_0,y_0),(x_1,y_1)...$ to be used by the function. The output matrix contains the coefficients $a_0,a_1,...$ for the Newton form.<br><br>"
   ]
  },
  {
   "cell_type": "markdown",
   "metadata": {},
   "source": [
    "Finally, we would write a C++ file test_Newtonform.cpp to test those functions by interpolating the data $(x_i,y_i) (0<=i<=4)$ generated by the polynomial $f(x)= 3.1x^4+2.3x^3-6.6x^2+8.7x+7.9$, where the nodes $x_i$ are -2,-1,0,1,2 and $y_i = f(x_i)$. <br><br> \n",
    "After constructing the interpolating polynomial $p_4(x)$, we would plot it along with the function $f(x)$, by evaluating them both at 201 equally spaced x-values on the interval [-3,3]. In another figure we would plot the error $f(x) - p_4(x)$ using the same 201 points. Theoretically, we would expect $p_4(x)$ and $f(x)$ to be very similar because the interpolating polynomial goes through the data points defined and the error we get should be very small and approaching 0. "
   ]
  },
  {
   "cell_type": "markdown",
   "metadata": {},
   "source": [
    "<br><br> \n",
    "The following code was used to construct and evaluate the interpolating polynomial $p_4(x)$. In the code we would start by declaring the data points and evaluating the coefficients matrix for them. We then move on to calculating the interpolation matrix, the actual $f(x)$ values and the error, as described in the comments. <br><br>"
   ]
  },
  {
   "cell_type": "raw",
   "metadata": {},
   "source": [
    "/*\n",
    "MATH3316 Project3 \n",
    "Author: Stefan Popov\n",
    "Oct 23rd 2016\n",
    "*/\n",
    "#include <iostream>\n",
    "#include \"matrix.hpp\"\n",
    "#include <vector>\n",
    "#include \"fcn.hpp\"\n",
    "using namespace std;\n",
    "vector<double> as;\n",
    "    \n",
    "class fcn : public Fcn {\n",
    "public:\n",
    "  double operator()(double x) {   // function evaluation\n",
    "    return (3.1*x*x*x*x + 2.3*x*x*x - 6.6*x*x + 8.7*x + 7.9);\n",
    "  }\n",
    "};\n",
    "\n",
    "\n",
    "double Newton_basis(Matrix& xnodes, int n, double x);\n",
    "double Newton_nestedform(Matrix& a, Matrix& xnodes, double x);\n",
    "Matrix Newton_coefficients(Matrix& xnodes, Matrix& ynodes);\n",
    "\n",
    "\n",
    "int main(){\n",
    "    //declare f \n",
    "    fcn f;\n",
    "    //declare xi vector\n",
    "    vector<double> xi= {-2,-1,0,1,2};\n",
    "    //declare and evaluate yi\n",
    "    vector<double> yi;\n",
    "    for ( int i=0; i<5; i++){\n",
    "        yi.push_back( f(xi[i]));\n",
    "    }\n",
    "    //construct matrix with the above vectors\n",
    "    Matrix xis(xi);\n",
    "    Matrix yis(yi);\n",
    "\n",
    "    //construct matrix of coefficients by calling the Newton_coefficients method\n",
    "    Matrix aMatrix= Newton_coefficients(xis,yis);\n",
    "\n",
    "    //construct the xValues by creating a Matrix of equally spaced doubles from -3 to 3\n",
    "    Matrix xValues= Linspace(-3,3,1,201);\n",
    "\n",
    "    //declare vectors \n",
    "    vector<double> xInterpolated;\n",
    "    vector<double> fxs;\n",
    "    vector<double> errorVector;\n",
    "\n",
    "    //fill the xInterpolated vector with corresponding value and \n",
    "    //fill f(x) vector and the error vector accordingly\n",
    "    for ( int i=0 ;i < xValues.Cols();i++){\n",
    "        double xInter =Newton_nestedform(aMatrix,xis,xValues[i][0]);\n",
    "        xInterpolated.push_back(xInter);\n",
    "        double fx = f(xValues[i][0]);\n",
    "        fxs.push_back(fx);\n",
    "        errorVector.push_back(fx-xInter);\n",
    "    }\n",
    "\n",
    "    //convert vectors to matrices and write to file\n",
    "    Matrix xInterpol(xInterpolated);\n",
    "    Matrix fxMatrix(fxs);\n",
    "    Matrix errorMatrix(errorVector);\n",
    "    xInterpol.Write(\"xInterpol.txt\");\n",
    "    fxMatrix.Write(\"y.txt\");\n",
    "    errorMatrix.Write(\"error.txt\");\n",
    "    xValues.Write(\"x.txt\");\n",
    "    return 0;\n",
    "}\n",
    "\n",
    "//Newton_basis function accepts the xNodes, an integer n and \n",
    "//the double x. It returns the newton basis by simply iterating \n",
    "//over the xNodes matrix and evaluating at each point\n",
    "double Newton_basis(Matrix& xnodes, int n, double x){\n",
    "    double phi= 1.0;\n",
    "    for(int i=0 ; i < n; i++){\n",
    "        phi*= (x-xnodes[0][i]);\n",
    "    }\n",
    "    return phi;\n",
    "}\n",
    "\n",
    "//Newton_nestedform accepts the coefficients matrix a, the \n",
    "//x nodes matrix and a double x. It returns the evaluation of p_n(x)\n",
    "//by calling the Newton_basis function and multiplying by the \n",
    "//corresponding coefficient in the a matrix\n",
    "double Newton_nestedform(Matrix& a, Matrix& xnodes, double x){\n",
    "    double pnOfX=0.0;\n",
    "\n",
    "    for(int i= 0 ; i< a.Rows(); i++){\n",
    "        pnOfX+=Newton_basis(xnodes,i, x)*a[0][i];\n",
    "    }\n",
    "    return pnOfX;\n",
    "}\n",
    "//Newton_coefficients method accepts the x and y nodes and returns the updates the coefficients matrix\n",
    "Matrix Newton_coefficients(Matrix& xnodes, Matrix& ynodes){\n",
    "    for(int i = 0; i< xnodes.Rows(); i++){\n",
    "        Matrix asTemp(as);\n",
    "        double firstPart = ynodes[0][i] - Newton_nestedform(asTemp,xnodes, xnodes[0][i]);\n",
    "        double secondPart =(Newton_basis(xnodes,i,xnodes[0][i]));\n",
    "        as.push_back((firstPart)/secondPart);\n",
    "    }\n",
    "    Matrix aMatrix(as);\n",
    "    return aMatrix;\n",
    "}\n"
   ]
  },
  {
   "cell_type": "markdown",
   "metadata": {},
   "source": [
    "<br><br> \n",
    "The code produced the following plots when loaded into our jupyter notebook. <br><br>"
   ]
  },
  {
   "cell_type": "code",
   "execution_count": 10,
   "metadata": {
    "collapsed": false
   },
   "outputs": [
    {
     "name": "stdout",
     "output_type": "stream",
     "text": [
      "Populating the interactive namespace from numpy and matplotlib\n"
     ]
    }
   ],
   "source": [
    "%pylab inline\n",
    "error = loadtxt('error.txt')\n",
    "x = loadtxt('x.txt')\n",
    "xInterpol= loadtxt('xInterpol.txt')\n",
    "y = loadtxt('y.txt')"
   ]
  },
  {
   "cell_type": "code",
   "execution_count": 11,
   "metadata": {
    "collapsed": false
   },
   "outputs": [
    {
     "data": {
      "text/plain": [
       "[<matplotlib.lines.Line2D at 0x7f396f058dd8>]"
      ]
     },
     "execution_count": 11,
     "metadata": {},
     "output_type": "execute_result"
    },
    {
     "data": {
      "image/png": "[encoded data removed]",
      "text/plain": [
       "<matplotlib.figure.Figure at 0x7f396f27b240>"
      ]
     },
     "metadata": {},
     "output_type": "display_data"
    }
   ],
   "source": [
    "plot(x,y)\n",
    "xlabel('x')\n",
    "ylabel('y')\n",
    "title('Interpolated vs Actual value')\n",
    "plot(x, xInterpol)"
   ]
  },
  {
   "cell_type": "markdown",
   "metadata": {},
   "source": [
    "As expected, the interpolating polynomial $p_4(x)$ produces very similar results to what is presented by $f(x)$. This is because the polynomial was built to go through the same data points and only slight errors might occur at times."
   ]
  },
  {
   "cell_type": "code",
   "execution_count": 15,
   "metadata": {
    "collapsed": false
   },
   "outputs": [
    {
     "data": {
      "text/plain": [
       "<matplotlib.text.Text at 0x7f396efac0f0>"
      ]
     },
     "execution_count": 15,
     "metadata": {},
     "output_type": "execute_result"
    },
    {
     "data": {
      "image/png": "[encoded data removed]",
      "text/plain": [
       "<matplotlib.figure.Figure at 0x7f396eff90f0>"
      ]
     },
     "metadata": {},
     "output_type": "display_data"
    }
   ],
   "source": [
    "\n",
    "plot(error)\n",
    "title('Error $f(x)-p_4(x)$')"
   ]
  },
  {
   "cell_type": "markdown",
   "metadata": {
    "collapsed": true
   },
   "source": [
    "The plot of the error $f(x) - p_4(x)$ shows us that there are varying errors......"
   ]
  },
  {
   "cell_type": "markdown",
   "metadata": {},
   "source": [
    "<br><br><br><br><br><br>\n",
    "### <center>2. Multi-dimensional interpolation</center>\n",
    "\n",
    "After being provided a C++ function for evaluating the polynomial interpolant of a set of data points using the Lagrange basis, we were to carry out multi-dimensional interpolation, using the simplest approach, when the data is regularly-spaced over a rectangle and the interpolant is created as a multi-dimensional version of the Lagrange interpolating polynomial. By considering the 1D Lagrange basis functions provided, we may construct a set of 2D Lagrange basis functions via the product of the two bases <br><br> $$l_{i,j}(x,y)= \\phi_i(x)\\psi(y)$$ <br><center>where $i=1,...,m$ and   $j=1,...,n$. </center>\n"
   ]
  },
  {
   "cell_type": "markdown",
   "metadata": {},
   "source": [
    "Our 2D Lagrange interpolant for an arbitrary function $f(x,y)$ at the nodes $(x_i,y_j)$ may be computed at a point $(a,b)$ as $$p(a,b)=\\sum_{i=0}^{m}\\sum_{j=0}^nf(x_i,y_j)l_{i,j}(a,b)$$<br>\n",
    "We would construct the C++ function Lagrange2D with the following signature "
   ]
  },
  {
   "cell_type": "markdown",
   "metadata": {},
   "source": [
    "<center><b>double Lagrange2D(Matrix& x, Matrix& y, Matrix& f, double a, double b);</b></center>"
   ]
  },
  {
   "cell_type": "markdown",
   "metadata": {},
   "source": [
    "where x is the input vector of length $m+1$, y is an input vector of length $n+1$, f is an input matrix\n",
    "in $R^{(m+1)×(n+1)}$ that holds the function values $f(x_i,y_j)$, and the doubles $a$ and $b$ correspond to an evaluation point in the $x-y$ plane. The function evaluates and returns $p(a,b)$. The function was tested with the provided test routine in the file <b>test_Lagrange2D.cpp</b> along with the jupyter notebook plot_Lagrange2D.ipynb and it outputed the following messages to the screen:"
   ]
  },
  {
   "cell_type": "raw",
   "metadata": {},
   "source": [
    "interpolants and errors using 11 nodes:\n",
    "      z        f(z)               p(z)             err\n",
    "    0.050    1.0000125000260    1.0000077978837   4.7e-06\n",
    "    0.150    1.0010126708709    1.0010134512525   7.8e-07\n",
    "    0.250    1.0078226778257    1.0078224358909   2.4e-07\n",
    "    0.350    1.0301629257234    1.0301630451041   1.2e-07\n",
    "    0.450    1.0831396554576    1.0831395677641   8.8e-08\n",
    "    0.550    1.1886633177627    1.1886634111673   9.3e-08\n",
    "    0.650    1.3787675863905    1.3787674420731   1.4e-07\n",
    "    0.750    1.7024346581382    1.7024349905050   3.3e-07\n",
    "    0.850    2.2387991096881    2.2387978887376   1.2e-06\n",
    "    0.950    3.1222229525487    3.1222313569473   8.4e-06\n",
    "\n",
    "interpolants and errors using 21 nodes:\n",
    "      z        f(z)               p(z)             err\n",
    "    0.025    1.0000007812501    1.0000007812513   1.2e-12\n",
    "    0.075    1.0000632819174    1.0000632819172   1.9e-13\n",
    "    0.125    1.0004883209877    1.0004883209877   3.1e-15\n",
    "    0.175    1.0018763677492    1.0018763677492   2.2e-16\n",
    "    0.225    1.0051301616855    1.0051301616855   1.6e-15\n",
    "    0.275    1.0114601035978    1.0114601035978   2.2e-16\n",
    "    0.325    1.0223963852061    1.0223963852061   4.4e-16\n",
    "    0.375    1.0398121803589    1.0398121803589   2.2e-16\n",
    "    0.425    1.0659634860400    1.0659634860400   2.2e-16\n",
    "    0.475    1.1035527079242    1.1035527079242   2.2e-16\n",
    "    0.525    1.1558250062399    1.1558250062399         0\n",
    "    0.575    1.2267090054760    1.2267090054760   2.2e-16\n",
    "    0.625    1.3210170862936    1.3210170862936   2.2e-16\n",
    "    0.675    1.4447256306661    1.4447256306661   4.4e-16\n",
    "    0.725    1.6053630078155    1.6053630078155   6.7e-16\n",
    "    0.775    1.8125438090848    1.8125438090848   4.4e-16\n",
    "    0.825    2.0787033700036    2.0787033700036   1.8e-15\n",
    "    0.875    2.4201091598060    2.4201091598060   2.8e-14\n",
    "    0.925    2.8582584261957    2.8582584261955     2e-13\n",
    "    0.975    3.4218194055573    3.4218194055578   4.8e-13\n"
   ]
  },
  {
   "cell_type": "markdown",
   "metadata": {},
   "source": [
    "In the Jupyter notebook provided, the python script in the notebook printed the following to the screen : "
   ]
  },
  {
   "cell_type": "raw",
   "metadata": {},
   "source": [
    "p10 success!  ||e10|| =  0.0575277609593  is below tolerance of  0.058\n",
    "p20 success!  ||e20|| =  3.69151159696e-08  is below tolerance of  3.7e-08"
   ]
  },
  {
   "cell_type": "markdown",
   "metadata": {},
   "source": [
    "To achieve this, the following C++ Code was written in a file called <b>Lagrange2D.cpp</b> and compiled with the Makefile:"
   ]
  },
  {
   "cell_type": "raw",
   "metadata": {},
   "source": [
    "/*\n",
    "MATH3316 Project3 \n",
    "Author: Stefan Popov\n",
    "Oct 23rd 2016\n",
    "*/\n",
    "#include <stdlib.h>\n",
    "#include <stdio.h>\n",
    "#include <iostream>\n",
    "#include <math.h>\n",
    "#include \"matrix.hpp\"\n",
    "\n",
    "using namespace std;\n",
    "\n",
    "//Lagrange2D evaluates the 2D Lagrange given the input vectors x,y,z and coefficients a and b\n",
    "\n",
    "double Lagrange2D(Matrix& x, Matrix& y, Matrix& z, double a, double b){\n",
    "  double result = 0.0;\n",
    "\n",
    "  for( int i=0; i< x.Rows(); i++){\n",
    "    for(int j=0; j<y.Rows(); j++){\n",
    "        result += z(j, i) * Lagrange_basis(x, j, a) * Lagrange_basis(y, i, b);\n",
    "    }\n",
    "\n",
    "  }\n",
    "  return result;\n",
    "}"
   ]
  },
  {
   "cell_type": "markdown",
   "metadata": {},
   "source": [
    "As seen, this function iterates over the x and y nodes and appends the product of the result of the function, the Lagrange basis for x, j and a and the Lagrange basis for y, i and b."
   ]
  },
  {
   "cell_type": "markdown",
   "metadata": {},
   "source": [
    "<br><br><br><br><br><br>\n",
    "### <center> 3. The importance of nodes</center>\n",
    "\n",
    "For this part of the project, we were to consider the two-dimensional Runge function $$f(x,y)= \\frac{1}{1+x^2+y^2}$$ in the rectangle $(x,y) \\in $ [-4,4]x[-4,4]. \n",
    "<br><br><br>\n",
    "#### <center>3.1 Runge function using uniformly-spaced nodes.</center>\n",
    "In a single C++ main() routine in a file Runge_uniform.cpp, we were supposed to afccomplish the following tasks: \n",
    "<ul>\n",
    "    <li>Create a set of (m+1) evenly-spaced nodes, x, over the interval [-4,4].</li>\n",
    "    <li>Create a set of (n+1) evenly-spaced nodes, y, over the interval [-4,4].</li>\n",
    "    <li>Create a matrix $f\\in R^{(m+1)x(n+1)}$ that contains the function values $f(x_i,y_j)$</li>\n",
    "    <li>Create an array of 201 evenly-spaced evaluation points, a, over the interval [-4,4] and output this to disk as the file <b>avals.txt</b>.</li>\n",
    "    <li>Create an array of 101 evenly-spaced evaluation points, b over the interval [-4,4] and output this to disk as the file <b>bvals.txt</b>.</li>\n",
    "    <li>Use the Lagrange2D() function from the previous section of this project to evaluate the polynomial interpolant $p(a_i,b_j)$ at teh 201x101 evaluation points, storing the result in the matrices $p_6 \\in R^{201x101}$ and $p_{24} \\in R^{201x101}$ </li>\n",
    "    <li>Output $p_6$ and $p_24$ to disk to files named <b>p6_uni.txt</b> and <b>p24_uni.txt</b></li>\n",
    "    <li>Lastly, fill a matrix runge $\\in R^{201x101}$ with the correct values of $f(a_i,b_j)$ and output this to disk in a file named <b> Runge.txt</b> </li>\n",
    "</ul><br><br>"
   ]
  },
  {
   "cell_type": "markdown",
   "metadata": {},
   "source": [
    "#### <center>3.2 Runge function using Chebyshev nodes </center>\n",
    "In this part, instead of using uniformly-spaced nodes we were to use Chebyshev nodes, given by the formula for (m+1) Chebyshev nodes over the interval [-L,L] $$x_i=Lcos{\\frac{(2i+1)\\pi}{2m+2}}$$ <center>for $i=0,...,m$</center><br>\n",
    "In a single C++ main() routine in a file <b> Runge_Chebyshev.cpp</b> we would repeat the steps in 3.1, but using the output files <b> p6_Cheb.txt</b> and <b> p24_Cheb.txt</b>.<br><br>\n",
    "To examine our results, we would load all created files using the Numpy loadtxt command and plot each surface in separate figure windows.<br>Afterwards, we would compute the error in each polynomial interpolant $err_{i,j}=|f_{i,j}-p_{i,j}|$ and plot those in separate figure windows."
   ]
  },
  {
   "cell_type": "code",
   "execution_count": null,
   "metadata": {
    "collapsed": true
   },
   "outputs": [],
   "source": []
  }
 ],
 "metadata": {
  "anaconda-cloud": {},
  "kernelspec": {
   "display_name": "Python [Root]",
   "language": "python",
   "name": "Python [Root]"
  },
  "language_info": {
   "codemirror_mode": {
    "name": "ipython",
    "version": 3
   },
   "file_extension": ".py",
   "mimetype": "text/x-python",
   "name": "python",
   "nbconvert_exporter": "python",
   "pygments_lexer": "ipython3",
   "version": "3.5.2"
  }
 },
 "nbformat": 4,
 "nbformat_minor": 0
}
